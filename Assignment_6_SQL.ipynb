{
 "cells": [
  {
   "cell_type": "markdown",
   "id": "c7b8a55e",
   "metadata": {},
   "source": [
    "Q-1. Write an SQL query to print details of the Workers who have joined in Feb’2014.\n",
    "\n",
    "Answer - select * from worker table where year(joining_date) = 2014 and month(joining_date) = 2;\n",
    "\n",
    "Q-2. Write an SQL query to fetch duplicate records having matching data in some fields of a table.\n",
    "\n",
    "Answer - SELECT department, COUNT(department)\n",
    "         FROM worker_table\n",
    "         GROUP BY department\n",
    "         HAVING COUNT(department)>1;\n",
    "\n",
    "Q-3. How to remove duplicate rows from Employees table.\n",
    "\n",
    "Answer - "
   ]
  },
  {
   "cell_type": "code",
   "execution_count": null,
   "id": "2ca9262c",
   "metadata": {},
   "outputs": [],
   "source": []
  }
 ],
 "metadata": {
  "kernelspec": {
   "display_name": "Python 3",
   "language": "python",
   "name": "python3"
  },
  "language_info": {
   "codemirror_mode": {
    "name": "ipython",
    "version": 3
   },
   "file_extension": ".py",
   "mimetype": "text/x-python",
   "name": "python",
   "nbconvert_exporter": "python",
   "pygments_lexer": "ipython3",
   "version": "3.8.8"
  }
 },
 "nbformat": 4,
 "nbformat_minor": 5
}
