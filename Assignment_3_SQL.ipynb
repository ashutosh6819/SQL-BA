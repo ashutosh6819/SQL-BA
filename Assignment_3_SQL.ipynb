{
 "cells": [
  {
   "cell_type": "markdown",
   "id": "4b4b196a",
   "metadata": {},
   "source": [
    "Q-1. Write an SQL query to print the FIRST_NAME from Worker table after removing\n",
    "white spaces from the right side.\n",
    "\n",
    "Answer - \n",
    "Select TRIM(first_name) from worker table;"
   ]
  },
  {
   "cell_type": "markdown",
   "id": "85524c2d",
   "metadata": {},
   "source": [
    "Q-2. Write an SQL query that fetches the unique values of DEPARTMENT from Worker\n",
    "table and prints its length.\n",
    "\n",
    "Answer -\n",
    "select distinct(length(department)) from worker_table;"
   ]
  },
  {
   "cell_type": "markdown",
   "id": "873d822d",
   "metadata": {},
   "source": [
    "Q-3. Write an SQL query to fetch nth max salaries from a table.\n",
    "\n",
    "Answer - \n",
    "select salary from worker_table order by salary desc limit 3;"
   ]
  }
 ],
 "metadata": {
  "kernelspec": {
   "display_name": "Python 3",
   "language": "python",
   "name": "python3"
  },
  "language_info": {
   "codemirror_mode": {
    "name": "ipython",
    "version": 3
   },
   "file_extension": ".py",
   "mimetype": "text/x-python",
   "name": "python",
   "nbconvert_exporter": "python",
   "pygments_lexer": "ipython3",
   "version": "3.8.8"
  }
 },
 "nbformat": 4,
 "nbformat_minor": 5
}
