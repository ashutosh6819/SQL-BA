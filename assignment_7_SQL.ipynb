{
 "cells": [
  {
   "cell_type": "markdown",
   "id": "81482299",
   "metadata": {},
   "source": [
    "Q-1. Write an SQL query to show only odd rows from a table.\n",
    "\n",
    "Answer - SELECT * FROM worker_table where worker_id % 2 != 0;\n",
    "\n",
    "Q-2. Write an SQL query to clone a new table from another table.\n",
    "\n",
    "Answer - create table new_tb select * from worker_table;"
   ]
  },
  {
   "cell_type": "code",
   "execution_count": null,
   "id": "5d092554",
   "metadata": {},
   "outputs": [],
   "source": []
  }
 ],
 "metadata": {
  "kernelspec": {
   "display_name": "Python 3",
   "language": "python",
   "name": "python3"
  },
  "language_info": {
   "codemirror_mode": {
    "name": "ipython",
    "version": 3
   },
   "file_extension": ".py",
   "mimetype": "text/x-python",
   "name": "python",
   "nbconvert_exporter": "python",
   "pygments_lexer": "ipython3",
   "version": "3.8.8"
  }
 },
 "nbformat": 4,
 "nbformat_minor": 5
}
