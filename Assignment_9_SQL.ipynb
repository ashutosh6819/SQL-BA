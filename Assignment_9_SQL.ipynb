{
 "cells": [
  {
   "cell_type": "markdown",
   "id": "ed80aede",
   "metadata": {},
   "source": [
    "Q-17. Write an SQL query to show the top n (say 10) records of a table.\n",
    "\n",
    "Answer - select * from new_tb limit 10;\n",
    "\n",
    "Q-18. Write an SQL query to determine the nth (say n=5) highest salary from a table.\n",
    "\n",
    "Answer - select * from new_tb_table order by salary desc limit 4 , 1 ;"
   ]
  },
  {
   "cell_type": "code",
   "execution_count": null,
   "id": "ead75aa2",
   "metadata": {},
   "outputs": [],
   "source": []
  }
 ],
 "metadata": {
  "kernelspec": {
   "display_name": "Python 3",
   "language": "python",
   "name": "python3"
  },
  "language_info": {
   "codemirror_mode": {
    "name": "ipython",
    "version": 3
   },
   "file_extension": ".py",
   "mimetype": "text/x-python",
   "name": "python",
   "nbconvert_exporter": "python",
   "pygments_lexer": "ipython3",
   "version": "3.8.8"
  }
 },
 "nbformat": 4,
 "nbformat_minor": 5
}
