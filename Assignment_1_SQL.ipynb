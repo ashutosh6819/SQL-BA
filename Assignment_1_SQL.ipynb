{
 "cells": [
  {
   "cell_type": "markdown",
   "id": "5be8140b",
   "metadata": {},
   "source": [
    "Q-1. Write an SQL query to fetch “FIRST_NAME” from Worker table using the alias name as <WORKER_NAME>.\n",
    "\n",
    "Answer -\n",
    "select first_name as worker_name from worker_table;"
   ]
  },
  {
   "cell_type": "markdown",
   "id": "4a47f353",
   "metadata": {},
   "source": [
    "Q-2. Write an SQL query to fetch unique values of DEPARTMENT from Worker table.\n",
    "\n",
    "Answer -\n",
    "select distinct department from worker_table ;"
   ]
  },
  {
   "cell_type": "markdown",
   "id": "05784086",
   "metadata": {},
   "source": [
    "Q-3. Write an SQL query to show the last 5 record from a table.\n",
    "\n",
    "Answer -\n",
    "select * from worker_table order by worker_id desc limit  5;"
   ]
  }
 ],
 "metadata": {
  "kernelspec": {
   "display_name": "Python 3",
   "language": "python",
   "name": "python3"
  },
  "language_info": {
   "codemirror_mode": {
    "name": "ipython",
    "version": 3
   },
   "file_extension": ".py",
   "mimetype": "text/x-python",
   "name": "python",
   "nbconvert_exporter": "python",
   "pygments_lexer": "ipython3",
   "version": "3.8.8"
  }
 },
 "nbformat": 4,
 "nbformat_minor": 5
}
