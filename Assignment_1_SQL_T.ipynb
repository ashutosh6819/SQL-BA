{
 "cells": [
  {
   "cell_type": "markdown",
   "id": "6a71c265",
   "metadata": {},
   "source": [
    "Que.1. What is a relational database management system (RDBMS)? What are the advantages of a database management system over a file system?\n",
    "\n",
    "Answer - \n",
    "\n",
    "    RDBMS is a collection or program that help IT teams and other to create , update , adminster and otherwise   interect with relational database. RDBMSes are stores in table form and with most commercial RDBMS using structured query language (SQL) to access the database.\n",
    "    \n",
    "    \n",
    "    file system is the DBMS that allows access to single file or table at a time .\n",
    "    \n",
    "    So the advantages of DBMS over file system are :-\n",
    "    \n",
    "    a. Data redundancy and inconsistency - Redundancy is the concept of repetition of data i.e. each data may have more than a single copy. The file system cannot control redundancy of data as each user defines and maintains the needed files for a specific application to run.Whereas DBMS controls redundancy by maintaining a single repository of data that is defined once and is accessed by many users. As there is no or less redundancy, data remains consistent.\n",
    "    \n",
    "    b. Data sharing – File system does not allow sharing of data or sharing is too complex. Whereas in DBMS, data can be shared easily due to centralized system.\n",
    "    \n",
    "    c. Data security – A file system provides a password mechanism to protect the database but how longer can the password be protected?No one can guarantee that. This doesn’t happen in the case of DBMS. DBMS has specialized features that help provide shielding to its data. \n",
    "    \n",
    "    d. System crashing – In some cases,systems might have crashes due to various reasons. It is a bane in case of file systems because once the system crashes, there will be no recovery of the data that’s been lost. A DBMS will have the recovery manager which retrieves the data making it another advantage over file systems. \n",
    "\n",
    "\n",
    "Que.2. In a database management system, explain the ACID properties.\n",
    "\n",
    "    Answer - A transaction is a single logical unit of work which accesses and possibly modifies the contents of a database. Transactions access data using read and write operations. \n",
    "In order to maintain consistency in a database, before and after the transaction, certain properties are followed. These are called ACID properties. \n",
    "\n",
    " \n",
    "\n",
    "Que.3. Explain the concept of normalization.\n",
    "\n",
    "    Answer - Normalization is the process of reorganizing data in a database so that it meets two basic requirements:\n",
    "\n",
    "    1. There is no redundancy of data, all data is stored in only one place.\n",
    "    2. Data dependencies are logical,all related data items are stored together.\n",
    "\n",
    "    Normalization is important for many reasons, but chiefly because it allows databases to take up as little disk space as possible, resulting in increased performance.\n",
    "\n",
    "    Normalization is also known as data normalization.\n",
    "\n",
    "\n",
    "\n",
    "Que.4. Explain the many types of query languages used in relational databases. DQL, DML, DCL, and DDL are some examples.\n",
    "\n",
    "Answer - \n",
    "\n",
    "Que.5. What is the difference between the main key and a composite key? Give instances of how primary key and composite are used.\n",
    "\n",
    "    Answer - Primary key is that column of the table whose every row data is uniquely identified. Composite Key is a form of the candidate key where a set of columns will uniquely identify every row in the table. \n",
    "\n",
    "    A composite key is made by the combination of two or more columns in a table that can be used to uniquely identify each row in the table when the columns are combined uniqueness of a row is guaranteed, but when it is taken individually it does not guarantee uniqueness, so it can be understood as a primary key \n",
    "\n",
    "Que.6. Create a table with a primary key, a column default value, and a column unique constraint in SQL.\n",
    "\n",
    "    Answer - create table Worker_table(\n",
    "    First_name varchar(12),\n",
    "    Worker_id int(4),\n",
    "    Age int(3) DEFAULT 'more then 18'\n",
    "    primary key (worker_id));\n",
    "        "
   ]
  },
  {
   "cell_type": "code",
   "execution_count": null,
   "id": "917ad5da",
   "metadata": {},
   "outputs": [],
   "source": []
  }
 ],
 "metadata": {
  "kernelspec": {
   "display_name": "Python 3",
   "language": "python",
   "name": "python3"
  },
  "language_info": {
   "codemirror_mode": {
    "name": "ipython",
    "version": 3
   },
   "file_extension": ".py",
   "mimetype": "text/x-python",
   "name": "python",
   "nbconvert_exporter": "python",
   "pygments_lexer": "ipython3",
   "version": "3.8.8"
  }
 },
 "nbformat": 4,
 "nbformat_minor": 5
}
