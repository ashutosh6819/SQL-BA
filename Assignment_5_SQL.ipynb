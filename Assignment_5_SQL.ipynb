{
 "cells": [
  {
   "cell_type": "markdown",
   "id": "e6b69d79",
   "metadata": {},
   "source": [
    "Q-1. Write an SQL query to print details of workers excluding first names, “Vipul” and “Satish” from Worker table.\n",
    "\n",
    "Answer - select * from worker table where not in ('vipul','satish')\n",
    "\n",
    "Q-2. Write an SQL query to print details of the Workers whose FIRST_NAME ends with ‘h’ and contains six alphabets.\n",
    "\n",
    "Answer - select * from worker table where first_name like '_____h' ; .\n",
    "\n",
    "Q-3. Write a query to validate Email of Employee.\n",
    "\n",
    "Answer - select * from employee_table where Email_id like '#gmail_id'\n"
   ]
  },
  {
   "cell_type": "code",
   "execution_count": null,
   "id": "be042c7b",
   "metadata": {},
   "outputs": [],
   "source": []
  }
 ],
 "metadata": {
  "kernelspec": {
   "display_name": "Python 3",
   "language": "python",
   "name": "python3"
  },
  "language_info": {
   "codemirror_mode": {
    "name": "ipython",
    "version": 3
   },
   "file_extension": ".py",
   "mimetype": "text/x-python",
   "name": "python",
   "nbconvert_exporter": "python",
   "pygments_lexer": "ipython3",
   "version": "3.8.8"
  }
 },
 "nbformat": 4,
 "nbformat_minor": 5
}
