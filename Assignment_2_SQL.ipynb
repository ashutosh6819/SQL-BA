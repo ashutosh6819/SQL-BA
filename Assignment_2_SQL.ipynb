{
 "cells": [
  {
   "cell_type": "markdown",
   "id": "a7d6b253",
   "metadata": {},
   "source": [
    "Q-1. Write an SQL query to print the first three characters of  FIRST_NAME from Worker\n",
    "table.\n",
    " \n",
    "Answer-\n",
    "select first_name from worker_table limit 3;"
   ]
  },
  {
   "cell_type": "markdown",
   "id": "29ef5ee1",
   "metadata": {},
   "source": [
    "Q-2. Write an SQL query to find the position of the alphabet (‘a’) in the first name\n",
    "column ‘Amitabh’ from Worker table.\n",
    "\n",
    "Answer -\n",
    "Select INSTR(FIRST_NAME, BINARY 'a') from worker_table where FIRST_NAME = 'Amitabh';"
   ]
  },
  {
   "cell_type": "markdown",
   "id": "5f38d452",
   "metadata": {},
   "source": [
    "Q-3. Write an SQL query to print the name of employees having the highest salary in each\n",
    "department.\n",
    "\n",
    "Answer - \n",
    "select first_name, max(salary_pa) from worker_table;"
   ]
  },
  {
   "cell_type": "code",
   "execution_count": null,
   "id": "9773a0c3",
   "metadata": {},
   "outputs": [],
   "source": []
  }
 ],
 "metadata": {
  "kernelspec": {
   "display_name": "Python 3",
   "language": "python",
   "name": "python3"
  },
  "language_info": {
   "codemirror_mode": {
    "name": "ipython",
    "version": 3
   },
   "file_extension": ".py",
   "mimetype": "text/x-python",
   "name": "python",
   "nbconvert_exporter": "python",
   "pygments_lexer": "ipython3",
   "version": "3.8.8"
  }
 },
 "nbformat": 4,
 "nbformat_minor": 5
}
