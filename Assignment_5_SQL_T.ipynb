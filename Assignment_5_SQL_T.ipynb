{
 "cells": [
  {
   "cell_type": "markdown",
   "id": "9cbd3f9f",
   "metadata": {},
   "source": [
    "Q1. Create a function and then call another function from within it. What is this process called?\n",
    "\n",
    "    Answer - Procedure Function\n",
    "\n",
    "Q2. How to inspect the query's execution plan?\n",
    "\n",
    "    Answer - 1. On the toolbar, click Database Engine Query. You can also open an existing query and display the estimated execution plan by clicking the Open File toolbar button and locating the existing query.\n",
    "\n",
    "2. Enter the query for which you would like to display the estimated execution plan.\n",
    "\n",
    "3. On the Query menu, click Display Estimated Execution Plan or click the Display Estimated Execution Plan toolbar button. The estimated execution plan is displayed on the Execution Plan tab in the results pane.\n",
    "\n",
    "Q3. What is the purpose of the MAXDOP and recompiling keywords in SQL queries?\n",
    "\n",
    "    Answer - The maximum degree of parallelism (MAXDOP) is a server configuration option for running SQL Server on multiple CPUs. It controls the number of processors used to run a single statement in parallel plan execution. The default value is 0, which enables SQL Server to use all available processors.\n",
    "    \n",
    "    A recompilation is the same process as a compilation, just executed again. If the database structure or data change significantly, a recompilation is required to create a new query execution plan that will be optimal for the new database state and ensure better procedure performance.\n",
    "    \n",
    "\n",
    "Q4. How to build DDL statements from an existing database table, write steps for it?\n",
    "\n",
    "    Answer - From existing database we can use DDL statements as, AlTER , DROP and Truncate.\n",
    "\n",
    "Q5. How to update data in a table using an inner join, write an example?\n",
    "\n",
    "    Answer - UPDATE customer_table  \n",
    "    INNER JOIN  \n",
    "    Customer_table  \n",
    "    ON customer_table.rel_cust_name = customer_table.cust_id  \n",
    "    SET customer_table.rel_cust_name = customer_table.cust_name  \n",
    "\n",
    "Q6. Differentiate between truncate, delete, and drop with a suitable example.\n",
    "\n",
    "    Answer - \n",
    "    DROP and TRUNCATE are DDL commands, whereas DELETE is a DML command. DELETE operations can be rolled back (undone), while DROP and TRUNCATE operations cannot be rolled back\n",
    "\n",
    "    And  the DROP command is used to remove the whole database or table indexes, data, and more. Whereas the TRUNCATE command is used to remove all the rows from the table.\n"
   ]
  },
  {
   "cell_type": "code",
   "execution_count": null,
   "id": "a9228b5c",
   "metadata": {},
   "outputs": [],
   "source": []
  }
 ],
 "metadata": {
  "kernelspec": {
   "display_name": "Python 3",
   "language": "python",
   "name": "python3"
  },
  "language_info": {
   "codemirror_mode": {
    "name": "ipython",
    "version": 3
   },
   "file_extension": ".py",
   "mimetype": "text/x-python",
   "name": "python",
   "nbconvert_exporter": "python",
   "pygments_lexer": "ipython3",
   "version": "3.8.8"
  }
 },
 "nbformat": 4,
 "nbformat_minor": 5
}
