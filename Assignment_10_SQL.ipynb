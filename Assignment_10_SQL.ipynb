{
 "cells": [
  {
   "cell_type": "markdown",
   "id": "c8b923b7",
   "metadata": {},
   "source": [
    "Q-19. Write an SQL query to determine the 5th highest salary without using TOP or limit\n",
    "method.\n",
    "\n",
    "Answer -\n",
    "\n",
    "        select salary from worker_table t1\n",
    "        where 4 = (select count(salary) from worker_table t2 \n",
    "            where t1.salary < t2.salary)  ;\n",
    "\n",
    "Q-20. Write an SQL query to fetch the list of employees with the same salary.\n",
    "\n",
    "Answer -\n",
    "\n",
    "         SELECT *\n",
    "         FROM new_tb \n",
    "         WHERE Salary IN (\n",
    "         SELECT Salary\n",
    "         FROM new_tb\n",
    "         GROUP BY Salary\n",
    "         HAVING COUNT(*) > 1\n",
    "         );\n",
    "        "
   ]
  },
  {
   "cell_type": "code",
   "execution_count": null,
   "id": "d190ccf9",
   "metadata": {},
   "outputs": [],
   "source": []
  }
 ],
 "metadata": {
  "kernelspec": {
   "display_name": "Python 3",
   "language": "python",
   "name": "python3"
  },
  "language_info": {
   "codemirror_mode": {
    "name": "ipython",
    "version": 3
   },
   "file_extension": ".py",
   "mimetype": "text/x-python",
   "name": "python",
   "nbconvert_exporter": "python",
   "pygments_lexer": "ipython3",
   "version": "3.8.8"
  }
 },
 "nbformat": 4,
 "nbformat_minor": 5
}
