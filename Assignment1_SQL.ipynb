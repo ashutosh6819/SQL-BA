create database DEPARTMENT;

use DEPARTMENT;

show databases;

create table Worker_table(
First_name varchar(12),
Worker_id int(4),
primary key (worker_id));


select * from worker_table;
insert into worker_table values ('ancher',1);
insert into worker_table values ('john',2);
insert into worker_table values ('sena',3);
insert into worker_table values ('helia',4);
insert into worker_table values ('freya',5);
insert into worker_table values ('joe',6);
insert into worker_table values ('heeya',7);
insert into worker_table values ('ohio',8);
insert into worker_table values ('rio',9);
insert into worker_table values ('andy',10);

select first_name as worker_name from worker_table;

ALTER TABLE worker_table
ADD department varchar(6);


update worker_table set department = 'BA' where worker_id = 1;
update worker_table set department = 'DL' where worker_id = 2;
update worker_table set department = 'ML' where worker_id = 3;
update worker_table set department = 'DL' where worker_id = 4;
update worker_table set department = 'BA' where worker_id = 5;
update worker_table set department = 'BA' where worker_id = 6;
update worker_table set department = 'DL' where worker_id = 7;
update worker_table set department = 'ML' where worker_id = 8;
update worker_table set department = 'ML' where worker_id = 9;
update worker_table set department = 'BA' where worker_id = 10; 

select * from worker_table;

select distinct department from worker_table ;

select * from worker_table order by worker_id desc limit  5;
